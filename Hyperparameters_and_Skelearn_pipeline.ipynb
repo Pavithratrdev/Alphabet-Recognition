{
  "nbformat": 4,
  "nbformat_minor": 0,
  "metadata": {
    "colab": {
      "name": "Hyperparameters and Skelearn pipeline",
      "provenance": [],
      "include_colab_link": true
    },
    "kernelspec": {
      "name": "python3",
      "display_name": "Python 3"
    },
    "language_info": {
      "name": "python"
    }
  },
  "cells": [
    {
      "cell_type": "markdown",
      "metadata": {
        "id": "view-in-github",
        "colab_type": "text"
      },
      "source": [
        "<a href=\"https://colab.research.google.com/github/Pavithratrdev/Alphabet-Recognition/blob/main/Hyperparameters_and_Skelearn_pipeline.ipynb\" target=\"_parent\"><img src=\"https://colab.research.google.com/assets/colab-badge.svg\" alt=\"Open In Colab\"/></a>"
      ]
    },
    {
      "cell_type": "code",
      "metadata": {
        "id": "PgGshEZO9zkV"
      },
      "source": [
        "from sklearn.ensemble import RandomForestClassifier"
      ],
      "execution_count": null,
      "outputs": []
    },
    {
      "cell_type": "code",
      "metadata": {
        "colab": {
          "base_uri": "https://localhost:8080/"
        },
        "id": "lDmFXZ7I-ddA",
        "outputId": "cf16b201-99d6-4582-dc41-0a26b20c4afa"
      },
      "source": [
        "forest = RandomForestClassifier(n_estimators=5)\n",
        "forest"
      ],
      "execution_count": null,
      "outputs": [
        {
          "output_type": "execute_result",
          "data": {
            "text/plain": [
              "RandomForestClassifier(bootstrap=True, ccp_alpha=0.0, class_weight=None,\n",
              "                       criterion='gini', max_depth=None, max_features='auto',\n",
              "                       max_leaf_nodes=None, max_samples=None,\n",
              "                       min_impurity_decrease=0.0, min_impurity_split=None,\n",
              "                       min_samples_leaf=1, min_samples_split=2,\n",
              "                       min_weight_fraction_leaf=0.0, n_estimators=100,\n",
              "                       n_jobs=None, oob_score=False, random_state=None,\n",
              "                       verbose=0, warm_start=False)"
            ]
          },
          "metadata": {},
          "execution_count": 6
        }
      ]
    },
    {
      "cell_type": "code",
      "metadata": {
        "id": "G9BonLRd-hf1"
      },
      "source": [
        "RandomForestClassifier?"
      ],
      "execution_count": null,
      "outputs": []
    },
    {
      "cell_type": "code",
      "metadata": {
        "id": "mxJAkLmo-_yE"
      },
      "source": [
        "params = {\n",
        "    'n_estimators' : [1,2,3,4,5,6,7,8],\n",
        "    'criterion': ['gini', 'entropy']\n",
        "}"
      ],
      "execution_count": null,
      "outputs": []
    },
    {
      "cell_type": "code",
      "metadata": {
        "id": "JtizSYJb_Ue3"
      },
      "source": [
        "## mock data\n",
        "from sklearn.datasets import make_classification\n",
        "X, y = make_classification(n_samples=1000, random_state=0)"
      ],
      "execution_count": null,
      "outputs": []
    },
    {
      "cell_type": "code",
      "metadata": {
        "colab": {
          "base_uri": "https://localhost:8080/"
        },
        "id": "4hLOQ6r3_uKC",
        "outputId": "63958d5f-6cfb-4da3-fcb7-3b77acd67bb9"
      },
      "source": [
        "X.shape"
      ],
      "execution_count": null,
      "outputs": [
        {
          "output_type": "execute_result",
          "data": {
            "text/plain": [
              "(1000, 20)"
            ]
          },
          "metadata": {},
          "execution_count": 47
        }
      ]
    },
    {
      "cell_type": "code",
      "metadata": {
        "colab": {
          "base_uri": "https://localhost:8080/"
        },
        "id": "yOFUScF2_uej",
        "outputId": "4e00b9e8-6d3f-4bb7-8be8-5dd2c4fac1d9"
      },
      "source": [
        "y.shape"
      ],
      "execution_count": null,
      "outputs": [
        {
          "output_type": "execute_result",
          "data": {
            "text/plain": [
              "(1000,)"
            ]
          },
          "metadata": {},
          "execution_count": 48
        }
      ]
    },
    {
      "cell_type": "code",
      "metadata": {
        "id": "r3T4kNwR_xx4"
      },
      "source": [
        "# y"
      ],
      "execution_count": null,
      "outputs": []
    },
    {
      "cell_type": "code",
      "metadata": {
        "colab": {
          "base_uri": "https://localhost:8080/"
        },
        "id": "Qb7OUpbE_zOp",
        "outputId": "fa9c9d12-4f14-4ce8-af3a-6ec003634a6b"
      },
      "source": [
        "forest = RandomForestClassifier(n_estimators=5)\n",
        "forest.fit(X,y)\n",
        "forest.score(X,y)"
      ],
      "execution_count": null,
      "outputs": [
        {
          "output_type": "execute_result",
          "data": {
            "text/plain": [
              "0.992"
            ]
          },
          "metadata": {},
          "execution_count": 50
        }
      ]
    },
    {
      "cell_type": "code",
      "metadata": {
        "id": "okqCg9Sv_7Hu"
      },
      "source": [
        "from sklearn.model_selection import GridSearchCV"
      ],
      "execution_count": null,
      "outputs": []
    },
    {
      "cell_type": "code",
      "metadata": {
        "id": "Qt231Mc8ASFE"
      },
      "source": [
        "RandomizedSearchCV?"
      ],
      "execution_count": null,
      "outputs": []
    },
    {
      "cell_type": "code",
      "metadata": {
        "id": "OaCIcd3TAa_x"
      },
      "source": [
        "forest = RandomForestClassifier()\n",
        "search = GridSearchCV(forest, params, cv=5, verbose=True)"
      ],
      "execution_count": null,
      "outputs": []
    },
    {
      "cell_type": "code",
      "metadata": {
        "colab": {
          "base_uri": "https://localhost:8080/"
        },
        "id": "GH0bB9fQA3wN",
        "outputId": "e328db75-c4d7-477d-e77a-b733ee3e2e2d"
      },
      "source": [
        "search.fit(X,y)"
      ],
      "execution_count": null,
      "outputs": [
        {
          "output_type": "stream",
          "name": "stdout",
          "text": [
            "Fitting 5 folds for each of 16 candidates, totalling 80 fits\n"
          ]
        },
        {
          "output_type": "stream",
          "name": "stderr",
          "text": [
            "[Parallel(n_jobs=1)]: Using backend SequentialBackend with 1 concurrent workers.\n",
            "[Parallel(n_jobs=1)]: Done  80 out of  80 | elapsed:    1.4s finished\n"
          ]
        },
        {
          "output_type": "execute_result",
          "data": {
            "text/plain": [
              "GridSearchCV(cv=5, error_score=nan,\n",
              "             estimator=RandomForestClassifier(bootstrap=True, ccp_alpha=0.0,\n",
              "                                              class_weight=None,\n",
              "                                              criterion='gini', max_depth=None,\n",
              "                                              max_features='auto',\n",
              "                                              max_leaf_nodes=None,\n",
              "                                              max_samples=None,\n",
              "                                              min_impurity_decrease=0.0,\n",
              "                                              min_impurity_split=None,\n",
              "                                              min_samples_leaf=1,\n",
              "                                              min_samples_split=2,\n",
              "                                              min_weight_fraction_leaf=0.0,\n",
              "                                              n_estimators=100, n_jobs=None,\n",
              "                                              oob_score=False,\n",
              "                                              random_state=None, verbose=0,\n",
              "                                              warm_start=False),\n",
              "             iid='deprecated', n_jobs=None,\n",
              "             param_grid={'criterion': ['gini', 'entropy'],\n",
              "                         'n_estimators': [1, 2, 3, 4, 5, 6, 7, 8]},\n",
              "             pre_dispatch='2*n_jobs', refit=True, return_train_score=False,\n",
              "             scoring=None, verbose=True)"
            ]
          },
          "metadata": {},
          "execution_count": 54
        }
      ]
    },
    {
      "cell_type": "code",
      "metadata": {
        "colab": {
          "base_uri": "https://localhost:8080/"
        },
        "id": "DS7YUVmLA-Xc",
        "outputId": "e3575b79-7cee-4064-a3b7-58117fca18f2"
      },
      "source": [
        "search.best_params_"
      ],
      "execution_count": null,
      "outputs": [
        {
          "output_type": "execute_result",
          "data": {
            "text/plain": [
              "{'criterion': 'gini', 'n_estimators': 7}"
            ]
          },
          "metadata": {},
          "execution_count": 56
        }
      ]
    },
    {
      "cell_type": "code",
      "metadata": {
        "colab": {
          "base_uri": "https://localhost:8080/"
        },
        "id": "vtQSpYCWBP8Q",
        "outputId": "755dc506-83f7-402d-dcf3-04511ed99782"
      },
      "source": [
        "search.best_estimator_.score(X,y)"
      ],
      "execution_count": null,
      "outputs": [
        {
          "output_type": "execute_result",
          "data": {
            "text/plain": [
              "0.996"
            ]
          },
          "metadata": {},
          "execution_count": 58
        }
      ]
    },
    {
      "cell_type": "code",
      "metadata": {
        "colab": {
          "base_uri": "https://localhost:8080/"
        },
        "id": "cRqptk_9CZEF",
        "outputId": "d66492a5-f7ee-4d7c-b0fe-e5f96416b291"
      },
      "source": [
        "search.best_score_"
      ],
      "execution_count": null,
      "outputs": [
        {
          "output_type": "execute_result",
          "data": {
            "text/plain": [
              "0.9570000000000001"
            ]
          },
          "metadata": {},
          "execution_count": 59
        }
      ]
    },
    {
      "cell_type": "code",
      "metadata": {
        "id": "T3SyXbd5CZJP"
      },
      "source": [
        "result = search.cv_results_"
      ],
      "execution_count": null,
      "outputs": []
    },
    {
      "cell_type": "code",
      "metadata": {
        "id": "WTE0SU0yCZNA"
      },
      "source": [
        "import pandas as pd"
      ],
      "execution_count": null,
      "outputs": []
    },
    {
      "cell_type": "code",
      "metadata": {
        "id": "VrMiM1S2CqGO"
      },
      "source": [
        "df = pd.DataFrame(result['params'])"
      ],
      "execution_count": null,
      "outputs": []
    },
    {
      "cell_type": "code",
      "metadata": {
        "colab": {
          "base_uri": "https://localhost:8080/",
          "height": 542
        },
        "id": "62filMgYC0GY",
        "outputId": "3669e100-a4ad-44ef-9697-7fd427df8383"
      },
      "source": [
        "df"
      ],
      "execution_count": null,
      "outputs": [
        {
          "output_type": "execute_result",
          "data": {
            "text/html": [
              "<div>\n",
              "<style scoped>\n",
              "    .dataframe tbody tr th:only-of-type {\n",
              "        vertical-align: middle;\n",
              "    }\n",
              "\n",
              "    .dataframe tbody tr th {\n",
              "        vertical-align: top;\n",
              "    }\n",
              "\n",
              "    .dataframe thead th {\n",
              "        text-align: right;\n",
              "    }\n",
              "</style>\n",
              "<table border=\"1\" class=\"dataframe\">\n",
              "  <thead>\n",
              "    <tr style=\"text-align: right;\">\n",
              "      <th></th>\n",
              "      <th>criterion</th>\n",
              "      <th>n_estimators</th>\n",
              "      <th>mean_test_score</th>\n",
              "      <th>rank_test_score</th>\n",
              "    </tr>\n",
              "  </thead>\n",
              "  <tbody>\n",
              "    <tr>\n",
              "      <th>0</th>\n",
              "      <td>gini</td>\n",
              "      <td>1</td>\n",
              "      <td>0.878</td>\n",
              "      <td>16</td>\n",
              "    </tr>\n",
              "    <tr>\n",
              "      <th>1</th>\n",
              "      <td>gini</td>\n",
              "      <td>2</td>\n",
              "      <td>0.919</td>\n",
              "      <td>13</td>\n",
              "    </tr>\n",
              "    <tr>\n",
              "      <th>2</th>\n",
              "      <td>gini</td>\n",
              "      <td>3</td>\n",
              "      <td>0.943</td>\n",
              "      <td>11</td>\n",
              "    </tr>\n",
              "    <tr>\n",
              "      <th>3</th>\n",
              "      <td>gini</td>\n",
              "      <td>4</td>\n",
              "      <td>0.948</td>\n",
              "      <td>9</td>\n",
              "    </tr>\n",
              "    <tr>\n",
              "      <th>4</th>\n",
              "      <td>gini</td>\n",
              "      <td>5</td>\n",
              "      <td>0.955</td>\n",
              "      <td>2</td>\n",
              "    </tr>\n",
              "    <tr>\n",
              "      <th>5</th>\n",
              "      <td>gini</td>\n",
              "      <td>6</td>\n",
              "      <td>0.950</td>\n",
              "      <td>7</td>\n",
              "    </tr>\n",
              "    <tr>\n",
              "      <th>6</th>\n",
              "      <td>gini</td>\n",
              "      <td>7</td>\n",
              "      <td>0.957</td>\n",
              "      <td>1</td>\n",
              "    </tr>\n",
              "    <tr>\n",
              "      <th>7</th>\n",
              "      <td>gini</td>\n",
              "      <td>8</td>\n",
              "      <td>0.947</td>\n",
              "      <td>10</td>\n",
              "    </tr>\n",
              "    <tr>\n",
              "      <th>8</th>\n",
              "      <td>entropy</td>\n",
              "      <td>1</td>\n",
              "      <td>0.917</td>\n",
              "      <td>14</td>\n",
              "    </tr>\n",
              "    <tr>\n",
              "      <th>9</th>\n",
              "      <td>entropy</td>\n",
              "      <td>2</td>\n",
              "      <td>0.896</td>\n",
              "      <td>15</td>\n",
              "    </tr>\n",
              "    <tr>\n",
              "      <th>10</th>\n",
              "      <td>entropy</td>\n",
              "      <td>3</td>\n",
              "      <td>0.951</td>\n",
              "      <td>5</td>\n",
              "    </tr>\n",
              "    <tr>\n",
              "      <th>11</th>\n",
              "      <td>entropy</td>\n",
              "      <td>4</td>\n",
              "      <td>0.941</td>\n",
              "      <td>12</td>\n",
              "    </tr>\n",
              "    <tr>\n",
              "      <th>12</th>\n",
              "      <td>entropy</td>\n",
              "      <td>5</td>\n",
              "      <td>0.954</td>\n",
              "      <td>3</td>\n",
              "    </tr>\n",
              "    <tr>\n",
              "      <th>13</th>\n",
              "      <td>entropy</td>\n",
              "      <td>6</td>\n",
              "      <td>0.952</td>\n",
              "      <td>4</td>\n",
              "    </tr>\n",
              "    <tr>\n",
              "      <th>14</th>\n",
              "      <td>entropy</td>\n",
              "      <td>7</td>\n",
              "      <td>0.949</td>\n",
              "      <td>8</td>\n",
              "    </tr>\n",
              "    <tr>\n",
              "      <th>15</th>\n",
              "      <td>entropy</td>\n",
              "      <td>8</td>\n",
              "      <td>0.951</td>\n",
              "      <td>5</td>\n",
              "    </tr>\n",
              "  </tbody>\n",
              "</table>\n",
              "</div>"
            ],
            "text/plain": [
              "   criterion  n_estimators  mean_test_score  rank_test_score\n",
              "0       gini             1            0.878               16\n",
              "1       gini             2            0.919               13\n",
              "2       gini             3            0.943               11\n",
              "3       gini             4            0.948                9\n",
              "4       gini             5            0.955                2\n",
              "5       gini             6            0.950                7\n",
              "6       gini             7            0.957                1\n",
              "7       gini             8            0.947               10\n",
              "8    entropy             1            0.917               14\n",
              "9    entropy             2            0.896               15\n",
              "10   entropy             3            0.951                5\n",
              "11   entropy             4            0.941               12\n",
              "12   entropy             5            0.954                3\n",
              "13   entropy             6            0.952                4\n",
              "14   entropy             7            0.949                8\n",
              "15   entropy             8            0.951                5"
            ]
          },
          "metadata": {},
          "execution_count": 73
        }
      ]
    },
    {
      "cell_type": "code",
      "metadata": {
        "id": "ToV96qmtDHK2"
      },
      "source": [
        "df['mean_test_score'] = result['mean_test_score']\n",
        "df['rank_test_score'] = result['rank_test_score']"
      ],
      "execution_count": null,
      "outputs": []
    },
    {
      "cell_type": "code",
      "metadata": {
        "colab": {
          "base_uri": "https://localhost:8080/"
        },
        "id": "BWrRq4PNDHj6",
        "outputId": "22c8d4e5-6326-492e-a577-cd60d30f1a9f"
      },
      "source": [
        "result"
      ],
      "execution_count": null,
      "outputs": [
        {
          "output_type": "execute_result",
          "data": {
            "text/plain": [
              "{'mean_fit_time': array([0.00355177, 0.00611777, 0.00898886, 0.01119838, 0.01634374,\n",
              "        0.01635518, 0.02179356, 0.02163849, 0.00406895, 0.00829477,\n",
              "        0.0114171 , 0.01637979, 0.02116222, 0.02389913, 0.02686677,\n",
              "        0.03192229]),\n",
              " 'mean_score_time': array([0.00080872, 0.00094914, 0.00116243, 0.00116405, 0.00132465,\n",
              "        0.00135875, 0.00158229, 0.0015162 , 0.00078621, 0.00096593,\n",
              "        0.00104213, 0.00124135, 0.00136209, 0.00154734, 0.00151358,\n",
              "        0.00164433]),\n",
              " 'mean_test_score': array([0.878, 0.919, 0.943, 0.948, 0.955, 0.95 , 0.957, 0.947, 0.917,\n",
              "        0.896, 0.951, 0.941, 0.954, 0.952, 0.949, 0.951]),\n",
              " 'param_criterion': masked_array(data=['gini', 'gini', 'gini', 'gini', 'gini', 'gini', 'gini',\n",
              "                    'gini', 'entropy', 'entropy', 'entropy', 'entropy',\n",
              "                    'entropy', 'entropy', 'entropy', 'entropy'],\n",
              "              mask=[False, False, False, False, False, False, False, False,\n",
              "                    False, False, False, False, False, False, False, False],\n",
              "        fill_value='?',\n",
              "             dtype=object),\n",
              " 'param_n_estimators': masked_array(data=[1, 2, 3, 4, 5, 6, 7, 8, 1, 2, 3, 4, 5, 6, 7, 8],\n",
              "              mask=[False, False, False, False, False, False, False, False,\n",
              "                    False, False, False, False, False, False, False, False],\n",
              "        fill_value='?',\n",
              "             dtype=object),\n",
              " 'params': [{'criterion': 'gini', 'n_estimators': 1},\n",
              "  {'criterion': 'gini', 'n_estimators': 2},\n",
              "  {'criterion': 'gini', 'n_estimators': 3},\n",
              "  {'criterion': 'gini', 'n_estimators': 4},\n",
              "  {'criterion': 'gini', 'n_estimators': 5},\n",
              "  {'criterion': 'gini', 'n_estimators': 6},\n",
              "  {'criterion': 'gini', 'n_estimators': 7},\n",
              "  {'criterion': 'gini', 'n_estimators': 8},\n",
              "  {'criterion': 'entropy', 'n_estimators': 1},\n",
              "  {'criterion': 'entropy', 'n_estimators': 2},\n",
              "  {'criterion': 'entropy', 'n_estimators': 3},\n",
              "  {'criterion': 'entropy', 'n_estimators': 4},\n",
              "  {'criterion': 'entropy', 'n_estimators': 5},\n",
              "  {'criterion': 'entropy', 'n_estimators': 6},\n",
              "  {'criterion': 'entropy', 'n_estimators': 7},\n",
              "  {'criterion': 'entropy', 'n_estimators': 8}],\n",
              " 'rank_test_score': array([16, 13, 11,  9,  2,  7,  1, 10, 14, 15,  5, 12,  3,  4,  8,  5],\n",
              "       dtype=int32),\n",
              " 'split0_test_score': array([0.94 , 0.885, 0.955, 0.96 , 0.955, 0.96 , 0.955, 0.95 , 0.945,\n",
              "        0.925, 0.965, 0.935, 0.96 , 0.955, 0.945, 0.945]),\n",
              " 'split1_test_score': array([0.865, 0.92 , 0.945, 0.95 , 0.955, 0.955, 0.965, 0.96 , 0.925,\n",
              "        0.915, 0.955, 0.95 , 0.955, 0.955, 0.965, 0.96 ]),\n",
              " 'split2_test_score': array([0.85 , 0.925, 0.935, 0.94 , 0.94 , 0.955, 0.96 , 0.95 , 0.885,\n",
              "        0.865, 0.96 , 0.94 , 0.96 , 0.935, 0.945, 0.96 ]),\n",
              " 'split3_test_score': array([0.905, 0.93 , 0.935, 0.945, 0.96 , 0.945, 0.955, 0.935, 0.92 ,\n",
              "        0.915, 0.95 , 0.94 , 0.945, 0.955, 0.945, 0.945]),\n",
              " 'split4_test_score': array([0.83 , 0.935, 0.945, 0.945, 0.965, 0.935, 0.95 , 0.94 , 0.91 ,\n",
              "        0.86 , 0.925, 0.94 , 0.95 , 0.96 , 0.945, 0.945]),\n",
              " 'std_fit_time': array([0.00010345, 0.00036918, 0.00031022, 0.00045659, 0.00522891,\n",
              "        0.00053348, 0.00197632, 0.00102224, 0.00016235, 0.00110574,\n",
              "        0.00095711, 0.00201703, 0.00150285, 0.00109417, 0.00100157,\n",
              "        0.0020261 ]),\n",
              " 'std_score_time': array([3.19740560e-05, 7.41474881e-05, 2.80428642e-04, 6.06906376e-05,\n",
              "        2.10506351e-04, 1.20791615e-04, 2.40765729e-04, 7.14706528e-05,\n",
              "        7.32308555e-05, 1.23066082e-04, 4.74523654e-05, 1.23894333e-04,\n",
              "        7.08826094e-05, 1.98039778e-04, 7.92205206e-05, 1.19223155e-04]),\n",
              " 'std_test_score': array([0.03957272, 0.01772005, 0.00748331, 0.00678233, 0.0083666 ,\n",
              "        0.00894427, 0.00509902, 0.0087178 , 0.01964688, 0.02764055,\n",
              "        0.01392839, 0.00489898, 0.00583095, 0.0087178 , 0.008     ,\n",
              "        0.00734847])}"
            ]
          },
          "metadata": {},
          "execution_count": 69
        }
      ]
    },
    {
      "cell_type": "code",
      "metadata": {
        "id": "BO0Oe2EPDP2h"
      },
      "source": [
        ""
      ],
      "execution_count": null,
      "outputs": []
    },
    {
      "cell_type": "code",
      "metadata": {
        "id": "kCNiRLgLDP8R"
      },
      "source": [
        ""
      ],
      "execution_count": null,
      "outputs": []
    },
    {
      "cell_type": "code",
      "metadata": {
        "colab": {
          "base_uri": "https://localhost:8080/"
        },
        "id": "Iggh27XIB0je",
        "outputId": "99e9e00d-9971-4b28-d22d-52e131d544dd"
      },
      "source": [
        "from sklearn import svm, datasets\n",
        "from sklearn.model_selection import GridSearchCV\n",
        "iris = datasets.load_iris()\n",
        "parameters = {'kernel':('linear', 'rbf'), 'C':[1, 10]}\n",
        "svc = svm.SVC()\n",
        "clf = GridSearchCV(svc, parameters, verbose=True, cv=10)\n",
        "clf.fit(iris.data, iris.target)\n"
      ],
      "execution_count": null,
      "outputs": [
        {
          "output_type": "stream",
          "name": "stdout",
          "text": [
            "Fitting 10 folds for each of 4 candidates, totalling 40 fits\n"
          ]
        },
        {
          "output_type": "stream",
          "name": "stderr",
          "text": [
            "[Parallel(n_jobs=1)]: Using backend SequentialBackend with 1 concurrent workers.\n",
            "[Parallel(n_jobs=1)]: Done  40 out of  40 | elapsed:    0.1s finished\n"
          ]
        },
        {
          "output_type": "execute_result",
          "data": {
            "text/plain": [
              "GridSearchCV(cv=10, error_score=nan,\n",
              "             estimator=SVC(C=1.0, break_ties=False, cache_size=200,\n",
              "                           class_weight=None, coef0=0.0,\n",
              "                           decision_function_shape='ovr', degree=3,\n",
              "                           gamma='scale', kernel='rbf', max_iter=-1,\n",
              "                           probability=False, random_state=None, shrinking=True,\n",
              "                           tol=0.001, verbose=False),\n",
              "             iid='deprecated', n_jobs=None,\n",
              "             param_grid={'C': [1, 10], 'kernel': ('linear', 'rbf')},\n",
              "             pre_dispatch='2*n_jobs', refit=True, return_train_score=False,\n",
              "             scoring=None, verbose=True)"
            ]
          },
          "metadata": {},
          "execution_count": 42
        }
      ]
    },
    {
      "cell_type": "markdown",
      "metadata": {
        "id": "-TomJv3lEQp4"
      },
      "source": [
        "## Sklearn pipelines"
      ]
    },
    {
      "cell_type": "code",
      "metadata": {
        "id": "9MgUtUcIB01A"
      },
      "source": [
        "df = pd.read_csv(\"https://raw.githubusercontent.com/nunnarilabs/ml/master/automobileEDA.csv\")"
      ],
      "execution_count": null,
      "outputs": []
    },
    {
      "cell_type": "code",
      "metadata": {
        "id": "9taoJJluEUun"
      },
      "source": [
        "X = df[['wheel-base', 'length', 'width', 'curb-weight', 'engine-size', 'bore', 'horsepower', 'city-L/100km']]\n",
        "Y = df['price']"
      ],
      "execution_count": null,
      "outputs": []
    },
    {
      "cell_type": "code",
      "metadata": {
        "colab": {
          "base_uri": "https://localhost:8080/",
          "height": 203
        },
        "id": "_QZkkbG_EnaV",
        "outputId": "152804e1-e347-45df-ca8e-ec087f784897"
      },
      "source": [
        "X.head()"
      ],
      "execution_count": null,
      "outputs": [
        {
          "output_type": "execute_result",
          "data": {
            "text/html": [
              "<div>\n",
              "<style scoped>\n",
              "    .dataframe tbody tr th:only-of-type {\n",
              "        vertical-align: middle;\n",
              "    }\n",
              "\n",
              "    .dataframe tbody tr th {\n",
              "        vertical-align: top;\n",
              "    }\n",
              "\n",
              "    .dataframe thead th {\n",
              "        text-align: right;\n",
              "    }\n",
              "</style>\n",
              "<table border=\"1\" class=\"dataframe\">\n",
              "  <thead>\n",
              "    <tr style=\"text-align: right;\">\n",
              "      <th></th>\n",
              "      <th>wheel-base</th>\n",
              "      <th>length</th>\n",
              "      <th>width</th>\n",
              "      <th>curb-weight</th>\n",
              "      <th>engine-size</th>\n",
              "      <th>bore</th>\n",
              "      <th>horsepower</th>\n",
              "      <th>city-L/100km</th>\n",
              "    </tr>\n",
              "  </thead>\n",
              "  <tbody>\n",
              "    <tr>\n",
              "      <th>0</th>\n",
              "      <td>88.6</td>\n",
              "      <td>0.811148</td>\n",
              "      <td>0.890278</td>\n",
              "      <td>2548</td>\n",
              "      <td>130</td>\n",
              "      <td>3.47</td>\n",
              "      <td>111.0</td>\n",
              "      <td>11.190476</td>\n",
              "    </tr>\n",
              "    <tr>\n",
              "      <th>1</th>\n",
              "      <td>88.6</td>\n",
              "      <td>0.811148</td>\n",
              "      <td>0.890278</td>\n",
              "      <td>2548</td>\n",
              "      <td>130</td>\n",
              "      <td>3.47</td>\n",
              "      <td>111.0</td>\n",
              "      <td>11.190476</td>\n",
              "    </tr>\n",
              "    <tr>\n",
              "      <th>2</th>\n",
              "      <td>94.5</td>\n",
              "      <td>0.822681</td>\n",
              "      <td>0.909722</td>\n",
              "      <td>2823</td>\n",
              "      <td>152</td>\n",
              "      <td>2.68</td>\n",
              "      <td>154.0</td>\n",
              "      <td>12.368421</td>\n",
              "    </tr>\n",
              "    <tr>\n",
              "      <th>3</th>\n",
              "      <td>99.8</td>\n",
              "      <td>0.848630</td>\n",
              "      <td>0.919444</td>\n",
              "      <td>2337</td>\n",
              "      <td>109</td>\n",
              "      <td>3.19</td>\n",
              "      <td>102.0</td>\n",
              "      <td>9.791667</td>\n",
              "    </tr>\n",
              "    <tr>\n",
              "      <th>4</th>\n",
              "      <td>99.4</td>\n",
              "      <td>0.848630</td>\n",
              "      <td>0.922222</td>\n",
              "      <td>2824</td>\n",
              "      <td>136</td>\n",
              "      <td>3.19</td>\n",
              "      <td>115.0</td>\n",
              "      <td>13.055556</td>\n",
              "    </tr>\n",
              "  </tbody>\n",
              "</table>\n",
              "</div>"
            ],
            "text/plain": [
              "   wheel-base    length     width  ...  bore  horsepower  city-L/100km\n",
              "0        88.6  0.811148  0.890278  ...  3.47       111.0     11.190476\n",
              "1        88.6  0.811148  0.890278  ...  3.47       111.0     11.190476\n",
              "2        94.5  0.822681  0.909722  ...  2.68       154.0     12.368421\n",
              "3        99.8  0.848630  0.919444  ...  3.19       102.0      9.791667\n",
              "4        99.4  0.848630  0.922222  ...  3.19       115.0     13.055556\n",
              "\n",
              "[5 rows x 8 columns]"
            ]
          },
          "metadata": {},
          "execution_count": 79
        }
      ]
    },
    {
      "cell_type": "code",
      "metadata": {
        "id": "sCKN79mnEpux"
      },
      "source": [
        "from sklearn.preprocessing import StandardScaler, MinMaxScaler"
      ],
      "execution_count": null,
      "outputs": []
    },
    {
      "cell_type": "code",
      "metadata": {
        "id": "REZyaSdVE-1u"
      },
      "source": [
        "scaler = MinMaxScaler()"
      ],
      "execution_count": null,
      "outputs": []
    },
    {
      "cell_type": "code",
      "metadata": {
        "colab": {
          "base_uri": "https://localhost:8080/",
          "height": 417
        },
        "id": "T0FTLtprFCT1",
        "outputId": "12835fae-1acb-4009-d8d9-dc90dd89e202"
      },
      "source": [
        "X_norm = pd.DataFrame(scaler.fit_transform(X), columns=X.columns)\n",
        "X_norm"
      ],
      "execution_count": null,
      "outputs": [
        {
          "output_type": "execute_result",
          "data": {
            "text/html": [
              "<div>\n",
              "<style scoped>\n",
              "    .dataframe tbody tr th:only-of-type {\n",
              "        vertical-align: middle;\n",
              "    }\n",
              "\n",
              "    .dataframe tbody tr th {\n",
              "        vertical-align: top;\n",
              "    }\n",
              "\n",
              "    .dataframe thead th {\n",
              "        text-align: right;\n",
              "    }\n",
              "</style>\n",
              "<table border=\"1\" class=\"dataframe\">\n",
              "  <thead>\n",
              "    <tr style=\"text-align: right;\">\n",
              "      <th></th>\n",
              "      <th>wheel-base</th>\n",
              "      <th>length</th>\n",
              "      <th>width</th>\n",
              "      <th>curb-weight</th>\n",
              "      <th>engine-size</th>\n",
              "      <th>bore</th>\n",
              "      <th>horsepower</th>\n",
              "      <th>city-L/100km</th>\n",
              "    </tr>\n",
              "  </thead>\n",
              "  <tbody>\n",
              "    <tr>\n",
              "      <th>0</th>\n",
              "      <td>0.058309</td>\n",
              "      <td>0.413433</td>\n",
              "      <td>0.324786</td>\n",
              "      <td>0.411171</td>\n",
              "      <td>0.260377</td>\n",
              "      <td>0.664286</td>\n",
              "      <td>0.294393</td>\n",
              "      <td>0.481481</td>\n",
              "    </tr>\n",
              "    <tr>\n",
              "      <th>1</th>\n",
              "      <td>0.058309</td>\n",
              "      <td>0.413433</td>\n",
              "      <td>0.324786</td>\n",
              "      <td>0.411171</td>\n",
              "      <td>0.260377</td>\n",
              "      <td>0.664286</td>\n",
              "      <td>0.294393</td>\n",
              "      <td>0.481481</td>\n",
              "    </tr>\n",
              "    <tr>\n",
              "      <th>2</th>\n",
              "      <td>0.230321</td>\n",
              "      <td>0.449254</td>\n",
              "      <td>0.444444</td>\n",
              "      <td>0.517843</td>\n",
              "      <td>0.343396</td>\n",
              "      <td>0.100000</td>\n",
              "      <td>0.495327</td>\n",
              "      <td>0.570175</td>\n",
              "    </tr>\n",
              "    <tr>\n",
              "      <th>3</th>\n",
              "      <td>0.384840</td>\n",
              "      <td>0.529851</td>\n",
              "      <td>0.504274</td>\n",
              "      <td>0.329325</td>\n",
              "      <td>0.181132</td>\n",
              "      <td>0.464286</td>\n",
              "      <td>0.252336</td>\n",
              "      <td>0.376157</td>\n",
              "    </tr>\n",
              "    <tr>\n",
              "      <th>4</th>\n",
              "      <td>0.373178</td>\n",
              "      <td>0.529851</td>\n",
              "      <td>0.521368</td>\n",
              "      <td>0.518231</td>\n",
              "      <td>0.283019</td>\n",
              "      <td>0.464286</td>\n",
              "      <td>0.313084</td>\n",
              "      <td>0.621914</td>\n",
              "    </tr>\n",
              "    <tr>\n",
              "      <th>...</th>\n",
              "      <td>...</td>\n",
              "      <td>...</td>\n",
              "      <td>...</td>\n",
              "      <td>...</td>\n",
              "      <td>...</td>\n",
              "      <td>...</td>\n",
              "      <td>...</td>\n",
              "      <td>...</td>\n",
              "    </tr>\n",
              "    <tr>\n",
              "      <th>196</th>\n",
              "      <td>0.655977</td>\n",
              "      <td>0.711940</td>\n",
              "      <td>0.735043</td>\n",
              "      <td>0.567882</td>\n",
              "      <td>0.301887</td>\n",
              "      <td>0.885714</td>\n",
              "      <td>0.308411</td>\n",
              "      <td>0.408213</td>\n",
              "    </tr>\n",
              "    <tr>\n",
              "      <th>197</th>\n",
              "      <td>0.655977</td>\n",
              "      <td>0.711940</td>\n",
              "      <td>0.726496</td>\n",
              "      <td>0.605508</td>\n",
              "      <td>0.301887</td>\n",
              "      <td>0.885714</td>\n",
              "      <td>0.523364</td>\n",
              "      <td>0.570175</td>\n",
              "    </tr>\n",
              "    <tr>\n",
              "      <th>198</th>\n",
              "      <td>0.655977</td>\n",
              "      <td>0.711940</td>\n",
              "      <td>0.735043</td>\n",
              "      <td>0.591156</td>\n",
              "      <td>0.422642</td>\n",
              "      <td>0.742857</td>\n",
              "      <td>0.401869</td>\n",
              "      <td>0.621914</td>\n",
              "    </tr>\n",
              "    <tr>\n",
              "      <th>199</th>\n",
              "      <td>0.655977</td>\n",
              "      <td>0.711940</td>\n",
              "      <td>0.735043</td>\n",
              "      <td>0.670675</td>\n",
              "      <td>0.316981</td>\n",
              "      <td>0.335714</td>\n",
              "      <td>0.271028</td>\n",
              "      <td>0.319444</td>\n",
              "    </tr>\n",
              "    <tr>\n",
              "      <th>200</th>\n",
              "      <td>0.655977</td>\n",
              "      <td>0.711940</td>\n",
              "      <td>0.735043</td>\n",
              "      <td>0.610551</td>\n",
              "      <td>0.301887</td>\n",
              "      <td>0.885714</td>\n",
              "      <td>0.308411</td>\n",
              "      <td>0.570175</td>\n",
              "    </tr>\n",
              "  </tbody>\n",
              "</table>\n",
              "<p>201 rows × 8 columns</p>\n",
              "</div>"
            ],
            "text/plain": [
              "     wheel-base    length     width  ...      bore  horsepower  city-L/100km\n",
              "0      0.058309  0.413433  0.324786  ...  0.664286    0.294393      0.481481\n",
              "1      0.058309  0.413433  0.324786  ...  0.664286    0.294393      0.481481\n",
              "2      0.230321  0.449254  0.444444  ...  0.100000    0.495327      0.570175\n",
              "3      0.384840  0.529851  0.504274  ...  0.464286    0.252336      0.376157\n",
              "4      0.373178  0.529851  0.521368  ...  0.464286    0.313084      0.621914\n",
              "..          ...       ...       ...  ...       ...         ...           ...\n",
              "196    0.655977  0.711940  0.735043  ...  0.885714    0.308411      0.408213\n",
              "197    0.655977  0.711940  0.726496  ...  0.885714    0.523364      0.570175\n",
              "198    0.655977  0.711940  0.735043  ...  0.742857    0.401869      0.621914\n",
              "199    0.655977  0.711940  0.735043  ...  0.335714    0.271028      0.319444\n",
              "200    0.655977  0.711940  0.735043  ...  0.885714    0.308411      0.570175\n",
              "\n",
              "[201 rows x 8 columns]"
            ]
          },
          "metadata": {},
          "execution_count": 94
        }
      ]
    },
    {
      "cell_type": "code",
      "metadata": {
        "colab": {
          "base_uri": "https://localhost:8080/"
        },
        "id": "IVUcOoRpFv5I",
        "outputId": "02af543c-5e01-4a2b-fb67-583112a118b2"
      },
      "source": [
        "max = df['wheel-base'].max()\n",
        "min = df['wheel-base'].min()\n",
        "max,min"
      ],
      "execution_count": null,
      "outputs": [
        {
          "output_type": "execute_result",
          "data": {
            "text/plain": [
              "(120.9, 86.6)"
            ]
          },
          "metadata": {},
          "execution_count": 92
        }
      ]
    },
    {
      "cell_type": "code",
      "metadata": {
        "colab": {
          "base_uri": "https://localhost:8080/"
        },
        "id": "JlDwF2jKFE2G",
        "outputId": "45e1e59d-662a-4372-8090-19ce0514e15c"
      },
      "source": [
        "df['wheel-base'].map(lambda x: (x - min) / (max - min))"
      ],
      "execution_count": null,
      "outputs": [
        {
          "output_type": "execute_result",
          "data": {
            "text/plain": [
              "0      0.058309\n",
              "1      0.058309\n",
              "2      0.230321\n",
              "3      0.384840\n",
              "4      0.373178\n",
              "         ...   \n",
              "196    0.655977\n",
              "197    0.655977\n",
              "198    0.655977\n",
              "199    0.655977\n",
              "200    0.655977\n",
              "Name: wheel-base, Length: 201, dtype: float64"
            ]
          },
          "metadata": {},
          "execution_count": 93
        }
      ]
    },
    {
      "cell_type": "code",
      "metadata": {
        "colab": {
          "base_uri": "https://localhost:8080/"
        },
        "id": "pmWGIEfXFVZG",
        "outputId": "4a051598-f4da-41f6-9a4d-42fcf9d0f254"
      },
      "source": [
        "scaler.inverse_transform(X_norm)"
      ],
      "execution_count": null,
      "outputs": [
        {
          "output_type": "execute_result",
          "data": {
            "text/plain": [
              "array([[ 88.6       ,   0.81114849,   0.89027778, ...,   3.47      ,\n",
              "        111.        ,  11.19047619],\n",
              "       [ 88.6       ,   0.81114849,   0.89027778, ...,   3.47      ,\n",
              "        111.        ,  11.19047619],\n",
              "       [ 94.5       ,   0.8226814 ,   0.90972222, ...,   2.68      ,\n",
              "        154.        ,  12.36842105],\n",
              "       ...,\n",
              "       [109.1       ,   0.90725613,   0.95694444, ...,   3.58      ,\n",
              "        134.        ,  13.05555556],\n",
              "       [109.1       ,   0.90725613,   0.95694444, ...,   3.01      ,\n",
              "        106.        ,   9.03846154],\n",
              "       [109.1       ,   0.90725613,   0.95694444, ...,   3.78      ,\n",
              "        114.        ,  12.36842105]])"
            ]
          },
          "metadata": {},
          "execution_count": 95
        }
      ]
    },
    {
      "cell_type": "markdown",
      "metadata": {
        "id": "iBX2_nYMGPjP"
      },
      "source": [
        "- u need to backup the transformation object "
      ]
    },
    {
      "cell_type": "code",
      "metadata": {
        "id": "hclgpim5GGiP"
      },
      "source": [
        "from sklearn.linear_model import LinearRegression"
      ],
      "execution_count": null,
      "outputs": []
    },
    {
      "cell_type": "code",
      "metadata": {
        "colab": {
          "base_uri": "https://localhost:8080/"
        },
        "id": "w0yqOkKtGdw8",
        "outputId": "a678b89f-f197-4d77-d5b7-1a1080500be3"
      },
      "source": [
        "model = LinearRegression()\n",
        "model.fit(X_norm,Y)\n",
        "model.score(X_norm,Y)"
      ],
      "execution_count": null,
      "outputs": [
        {
          "output_type": "execute_result",
          "data": {
            "text/plain": [
              "0.822954274472671"
            ]
          },
          "metadata": {},
          "execution_count": 103
        }
      ]
    },
    {
      "cell_type": "code",
      "metadata": {
        "colab": {
          "base_uri": "https://localhost:8080/"
        },
        "id": "l2x8zLZCGxU3",
        "outputId": "9e1655c1-4f69-4281-8e42-eaa63e89679e"
      },
      "source": [
        "X.iloc[0]"
      ],
      "execution_count": null,
      "outputs": [
        {
          "output_type": "execute_result",
          "data": {
            "text/plain": [
              "wheel-base        88.600000\n",
              "length             0.811148\n",
              "width              0.890278\n",
              "curb-weight     2548.000000\n",
              "engine-size      130.000000\n",
              "bore               3.470000\n",
              "horsepower       111.000000\n",
              "city-L/100km      11.190476\n",
              "Name: 0, dtype: float64"
            ]
          },
          "metadata": {},
          "execution_count": 105
        }
      ]
    },
    {
      "cell_type": "code",
      "metadata": {
        "colab": {
          "base_uri": "https://localhost:8080/"
        },
        "id": "BU2Htd-rG0by",
        "outputId": "3d9e82a4-286c-4ab5-bf39-f40ff8896a13"
      },
      "source": [
        "X_norm.iloc[0]"
      ],
      "execution_count": null,
      "outputs": [
        {
          "output_type": "execute_result",
          "data": {
            "text/plain": [
              "wheel-base      0.058309\n",
              "length          0.413433\n",
              "width           0.324786\n",
              "curb-weight     0.411171\n",
              "engine-size     0.260377\n",
              "bore            0.664286\n",
              "horsepower      0.294393\n",
              "city-L/100km    0.481481\n",
              "Name: 0, dtype: float64"
            ]
          },
          "metadata": {},
          "execution_count": 108
        }
      ]
    },
    {
      "cell_type": "code",
      "metadata": {
        "id": "VRkazyIrHVQP"
      },
      "source": [
        "ip = scaler.transform([[88,0.8,0.8,2548,130,3.4,111,11]])"
      ],
      "execution_count": null,
      "outputs": []
    },
    {
      "cell_type": "code",
      "metadata": {
        "colab": {
          "base_uri": "https://localhost:8080/"
        },
        "id": "d5_Ay5VOGqYw",
        "outputId": "f6682a36-617c-4603-85e5-d5a1aa653599"
      },
      "source": [
        "model.predict(ip)"
      ],
      "execution_count": null,
      "outputs": [
        {
          "output_type": "execute_result",
          "data": {
            "text/plain": [
              "array([8928.0945308])"
            ]
          },
          "metadata": {},
          "execution_count": 114
        }
      ]
    },
    {
      "cell_type": "code",
      "metadata": {
        "id": "c5E6P5SqHqOA"
      },
      "source": [
        "from sklearn.preprocessing import PolynomialFeatures"
      ],
      "execution_count": null,
      "outputs": []
    },
    {
      "cell_type": "code",
      "metadata": {
        "id": "LJtEB6_1Hqme"
      },
      "source": [
        "from sklearn.pipeline import Pipeline"
      ],
      "execution_count": null,
      "outputs": []
    },
    {
      "cell_type": "code",
      "metadata": {
        "id": "uopuZ3NkHviX"
      },
      "source": [
        "pipe = Pipeline([ ('scaler', MinMaxScaler()), ('lr', LinearRegression())])"
      ],
      "execution_count": null,
      "outputs": []
    },
    {
      "cell_type": "code",
      "metadata": {
        "colab": {
          "base_uri": "https://localhost:8080/"
        },
        "id": "U_87DSNvIJSy",
        "outputId": "5f296abf-b7c5-4ef8-f08f-f196575f8722"
      },
      "source": [
        "pipe.fit(X,Y)"
      ],
      "execution_count": null,
      "outputs": [
        {
          "output_type": "execute_result",
          "data": {
            "text/plain": [
              "Pipeline(memory=None,\n",
              "         steps=[('scaler', MinMaxScaler(copy=True, feature_range=(0, 1))),\n",
              "                ('lr',\n",
              "                 LinearRegression(copy_X=True, fit_intercept=True, n_jobs=None,\n",
              "                                  normalize=False))],\n",
              "         verbose=False)"
            ]
          },
          "metadata": {},
          "execution_count": 151
        }
      ]
    },
    {
      "cell_type": "code",
      "metadata": {
        "colab": {
          "base_uri": "https://localhost:8080/"
        },
        "id": "-pVLk1muIPnf",
        "outputId": "b04b4cb9-3c1d-40ae-cb75-dce8dbb11c29"
      },
      "source": [
        "pipe.score(X,Y)"
      ],
      "execution_count": null,
      "outputs": [
        {
          "output_type": "execute_result",
          "data": {
            "text/plain": [
              "0.822954274472671"
            ]
          },
          "metadata": {},
          "execution_count": 152
        }
      ]
    },
    {
      "cell_type": "code",
      "metadata": {
        "colab": {
          "base_uri": "https://localhost:8080/"
        },
        "id": "3aYkqh37IRxY",
        "outputId": "246dc7d4-b1f7-4957-c8eb-e992a32a0ca2"
      },
      "source": [
        "pipe.predict([[88,0.8,0.8,2548,130,3.4,111,11]])"
      ],
      "execution_count": null,
      "outputs": [
        {
          "output_type": "execute_result",
          "data": {
            "text/plain": [
              "array([8928.0945308])"
            ]
          },
          "metadata": {},
          "execution_count": 153
        }
      ]
    },
    {
      "cell_type": "code",
      "metadata": {
        "id": "tSWXjFxcIbg2"
      },
      "source": [
        ""
      ],
      "execution_count": null,
      "outputs": []
    },
    {
      "cell_type": "code",
      "metadata": {
        "id": "rxUo7lYyIczb"
      },
      "source": [
        "pipe = Pipeline([('poly', PolynomialFeatures(degree=2)), ('scaler', MinMaxScaler()), ('lr', LinearRegression())])"
      ],
      "execution_count": null,
      "outputs": []
    },
    {
      "cell_type": "markdown",
      "metadata": {
        "id": "CiUj_BBmL7lE"
      },
      "source": [
        "2 para - poly [1,2,3,4,4][True, False]\n",
        "\n",
        "2 para - minmax [1,2,3,4,4][True, False]\n",
        "\n",
        "3 para - random forest [10,100,1000]['G', 'E'] [1,2,3,4,5]"
      ]
    },
    {
      "cell_type": "code",
      "metadata": {
        "colab": {
          "base_uri": "https://localhost:8080/"
        },
        "id": "6cL-OsJkIkA9",
        "outputId": "42db3798-8945-4a32-84bb-80938b42a3fd"
      },
      "source": [
        "pipe.fit(X,Y)"
      ],
      "execution_count": null,
      "outputs": [
        {
          "output_type": "execute_result",
          "data": {
            "text/plain": [
              "Pipeline(memory=None,\n",
              "         steps=[('poly',\n",
              "                 PolynomialFeatures(degree=2, include_bias=True,\n",
              "                                    interaction_only=False, order='C')),\n",
              "                ('scaler', MinMaxScaler(copy=True, feature_range=(0, 1))),\n",
              "                ('lr',\n",
              "                 LinearRegression(copy_X=True, fit_intercept=True, n_jobs=None,\n",
              "                                  normalize=False))],\n",
              "         verbose=False)"
            ]
          },
          "metadata": {},
          "execution_count": 155
        }
      ]
    },
    {
      "cell_type": "code",
      "metadata": {
        "colab": {
          "base_uri": "https://localhost:8080/"
        },
        "id": "Vr0TQM2JIlBt",
        "outputId": "cfbc685f-531d-49c9-e9ae-a99839fe4cef"
      },
      "source": [
        "pipe.score(X,Y)"
      ],
      "execution_count": null,
      "outputs": [
        {
          "output_type": "execute_result",
          "data": {
            "text/plain": [
              "0.9060057620731776"
            ]
          },
          "metadata": {},
          "execution_count": 156
        }
      ]
    },
    {
      "cell_type": "code",
      "metadata": {
        "colab": {
          "base_uri": "https://localhost:8080/"
        },
        "id": "Uq8aGCk_Imvk",
        "outputId": "86830700-bc37-4082-edb5-f3efad62d26c"
      },
      "source": [
        "pipe.predict([[88,0.8,0.8,2548,130,3.4,111,11]])"
      ],
      "execution_count": null,
      "outputs": [
        {
          "output_type": "execute_result",
          "data": {
            "text/plain": [
              "array([21657.9219411])"
            ]
          },
          "metadata": {},
          "execution_count": 157
        }
      ]
    },
    {
      "cell_type": "code",
      "metadata": {
        "id": "cKbcR6QmNVtW"
      },
      "source": [
        "import pickle\n",
        "filename = 'car_regression_model1.sav'\n",
        "pickle.dump(pipe, open(filename, 'wb'))"
      ],
      "execution_count": null,
      "outputs": []
    },
    {
      "cell_type": "code",
      "metadata": {
        "id": "n6wSGZEqNLH2"
      },
      "source": [
        "# load the model from disk\n",
        "loaded_model = pickle.load(open(filename, 'rb'))\n",
        "result = loaded_model.score(X_test, Y_test)\n",
        "print(result)"
      ],
      "execution_count": null,
      "outputs": []
    },
    {
      "cell_type": "markdown",
      "metadata": {
        "id": "LXJe1U8rIpgF"
      },
      "source": [
        "## GrieSearch CV for pipeline"
      ]
    },
    {
      "cell_type": "code",
      "metadata": {
        "id": "LyYJmTy3IoHF"
      },
      "source": [
        "pipe = Pipeline([('poly', PolynomialFeatures()), ('scaler', MinMaxScaler()), ('lr', LinearRegression())])"
      ],
      "execution_count": null,
      "outputs": []
    },
    {
      "cell_type": "code",
      "metadata": {
        "id": "lnBoCBmkI9Mf"
      },
      "source": [
        "params = {\n",
        "    'poly__degree':[1,2,3],\n",
        "    'lr__fit_intercept': [True, False]\n",
        "}"
      ],
      "execution_count": null,
      "outputs": []
    },
    {
      "cell_type": "code",
      "metadata": {
        "id": "-aOi7TWyI3F0"
      },
      "source": [
        "search = GridSearchCV(pipe, params, cv=5, verbose=True)"
      ],
      "execution_count": null,
      "outputs": []
    },
    {
      "cell_type": "code",
      "metadata": {
        "colab": {
          "base_uri": "https://localhost:8080/"
        },
        "id": "2nxzycJIJLM6",
        "outputId": "b687b247-3259-4cf8-8db6-e2085c3b0d81"
      },
      "source": [
        "search.fit(X,Y)"
      ],
      "execution_count": null,
      "outputs": [
        {
          "output_type": "stream",
          "name": "stdout",
          "text": [
            "Fitting 5 folds for each of 6 candidates, totalling 30 fits\n"
          ]
        },
        {
          "output_type": "stream",
          "name": "stderr",
          "text": [
            "[Parallel(n_jobs=1)]: Using backend SequentialBackend with 1 concurrent workers.\n",
            "[Parallel(n_jobs=1)]: Done  30 out of  30 | elapsed:    0.4s finished\n"
          ]
        },
        {
          "output_type": "execute_result",
          "data": {
            "text/plain": [
              "GridSearchCV(cv=5, error_score=nan,\n",
              "             estimator=Pipeline(memory=None,\n",
              "                                steps=[('poly',\n",
              "                                        PolynomialFeatures(degree=2,\n",
              "                                                           include_bias=True,\n",
              "                                                           interaction_only=False,\n",
              "                                                           order='C')),\n",
              "                                       ('scaler',\n",
              "                                        MinMaxScaler(copy=True,\n",
              "                                                     feature_range=(0, 1))),\n",
              "                                       ('lr',\n",
              "                                        LinearRegression(copy_X=True,\n",
              "                                                         fit_intercept=True,\n",
              "                                                         n_jobs=None,\n",
              "                                                         normalize=False))],\n",
              "                                verbose=False),\n",
              "             iid='deprecated', n_jobs=None,\n",
              "             param_grid={'lr__fit_intercept': [True, False],\n",
              "                         'poly__degree': [1, 2, 3]},\n",
              "             pre_dispatch='2*n_jobs', refit=True, return_train_score=False,\n",
              "             scoring=None, verbose=True)"
            ]
          },
          "metadata": {},
          "execution_count": 145
        }
      ]
    },
    {
      "cell_type": "code",
      "metadata": {
        "colab": {
          "base_uri": "https://localhost:8080/"
        },
        "id": "RmAe2M-LJLwh",
        "outputId": "2621768d-7823-405f-cbf2-eac0eb46ce45"
      },
      "source": [
        "search.best_estimator_"
      ],
      "execution_count": null,
      "outputs": [
        {
          "output_type": "execute_result",
          "data": {
            "text/plain": [
              "Pipeline(memory=None,\n",
              "         steps=[('poly',\n",
              "                 PolynomialFeatures(degree=1, include_bias=True,\n",
              "                                    interaction_only=False, order='C')),\n",
              "                ('scaler', MinMaxScaler(copy=True, feature_range=(0, 1))),\n",
              "                ('lr',\n",
              "                 LinearRegression(copy_X=True, fit_intercept=True, n_jobs=None,\n",
              "                                  normalize=False))],\n",
              "         verbose=False)"
            ]
          },
          "metadata": {},
          "execution_count": 146
        }
      ]
    },
    {
      "cell_type": "code",
      "metadata": {
        "colab": {
          "base_uri": "https://localhost:8080/"
        },
        "id": "HuIFrMhWJyEr",
        "outputId": "0b5b0f1c-8e85-4878-d816-7a3330da0f15"
      },
      "source": [
        "search.best_score_"
      ],
      "execution_count": null,
      "outputs": [
        {
          "output_type": "execute_result",
          "data": {
            "text/plain": [
              "0.535103153663831"
            ]
          },
          "metadata": {},
          "execution_count": 147
        }
      ]
    },
    {
      "cell_type": "code",
      "metadata": {
        "id": "6Y3a-aNLMMey"
      },
      "source": [
        ""
      ],
      "execution_count": null,
      "outputs": []
    },
    {
      "cell_type": "markdown",
      "metadata": {
        "id": "3hhSXbYKMj1O"
      },
      "source": [
        "## optuna"
      ]
    },
    {
      "cell_type": "code",
      "metadata": {
        "id": "HommHK4OMkyM"
      },
      "source": [
        "import sklearn\n",
        "\n",
        "import optuna\n",
        "\n",
        "# 1. Define an objective function to be maximized.\n",
        "def objective(trial):\n",
        "\n",
        "    # 2. Suggest values for the hyperparameters using a trial object.\n",
        "    classifier_name = trial.suggest_categorical('classifier', ['SVC', 'RandomForest'])\n",
        "    if classifier_name == 'SVC':\n",
        "         svc_c = trial.suggest_float('svc_c', 1e-10, 1e10, log=True)\n",
        "         classifier_obj = sklearn.svm.SVC(C=svc_c, gamma='auto')\n",
        "    else:\n",
        "        rf_max_depth = trial.suggest_int('rf_max_depth', 2, 32, log=True)\n",
        "        classifier_obj = sklearn.ensemble.RandomForestClassifier(max_depth=rf_max_depth, n_estimators=10)\n",
        "    return accuracy\n",
        "\n",
        "# 3. Create a study object and optimize the objective function.\n",
        "study = optuna.create_study(direction='maximize')\n",
        "study.optimize(objective, n_trials=100)"
      ],
      "execution_count": null,
      "outputs": []
    }
  ]
}